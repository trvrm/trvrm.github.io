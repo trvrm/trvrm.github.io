{
 "metadata": {
  "name": "",
  "signature": "sha256:84c7ba14d384aef71af6dd26f007440e00f4f2f8584341d054bd156a41a26463"
 },
 "nbformat": 3,
 "nbformat_minor": 0,
 "worksheets": [
  {
   "cells": [
    {
     "cell_type": "markdown",
     "metadata": {},
     "source": [
      "With a bit of work we can get IPython to render ReportLab objects directly to the page as Matplotlib plots.\n",
      "\n",
      "Huge thanks to github user [deeplook](https://github.com/deeplook), this is basically a modification of [this](http://nbviewer.ipython.org/gist/deeplook/5162445) IPython notebook.\n"
     ]
    },
    {
     "cell_type": "markdown",
     "metadata": {},
     "source": [
      "First our imports."
     ]
    },
    {
     "cell_type": "code",
     "collapsed": false,
     "input": [
      "from reportlab.lib import colors\n",
      "from reportlab.graphics import renderPM\n",
      "from reportlab.graphics.shapes import Drawing, Rect\n",
      "from reportlab.graphics.charts.linecharts import HorizontalLineChart"
     ],
     "language": "python",
     "metadata": {},
     "outputs": [],
     "prompt_number": 1
    },
    {
     "cell_type": "code",
     "collapsed": false,
     "input": [
      "from io import BytesIO\n",
      "from IPython.core import display"
     ],
     "language": "python",
     "metadata": {},
     "outputs": [],
     "prompt_number": 2
    },
    {
     "cell_type": "markdown",
     "metadata": {},
     "source": [
      "Now we create a hook that causes reportlab drawings to actually be rendered when we type out its name."
     ]
    },
    {
     "cell_type": "code",
     "collapsed": false,
     "input": [
      "def display_reportlab_drawing(drawing):\n",
      "    buff=BytesIO()\n",
      "    renderPM.drawToFile(drawing,buff,fmt='png',dpi=72)\n",
      "    data=buff.getvalue()\n",
      "    ip_img=display.Image(data=data,format='png',embed=True)\n",
      "    return ip_img._repr_png_()"
     ],
     "language": "python",
     "metadata": {},
     "outputs": [],
     "prompt_number": 4
    },
    {
     "cell_type": "code",
     "collapsed": false,
     "input": [
      "png_formatter=get_ipython().display_formatter.formatters['image/png']\n",
      "drd=png_formatter.for_type(Drawing,display_reportlab_drawing)"
     ],
     "language": "python",
     "metadata": {},
     "outputs": [],
     "prompt_number": 5
    },
    {
     "cell_type": "markdown",
     "metadata": {},
     "source": [
      "Now that's done, we can start creating ReportLab objects and see them immediately."
     ]
    },
    {
     "cell_type": "code",
     "collapsed": false,
     "input": [
      "drawing = Drawing(150,100)\n",
      "drawing.add(Rect(0,0,150,100,strokeColor=colors.black,fillColor=colors.antiquewhite))\n",
      "drawing"
     ],
     "language": "python",
     "metadata": {},
     "outputs": [
      {
       "metadata": {},
       "output_type": "pyout",
       "png": "[encoded data removed]",
       "prompt_number": 24,
       "text": [
        "<reportlab.graphics.shapes.Drawing instance at 0x7f0cc7212878>"
       ]
      }
     ],
     "prompt_number": 24
    },
    {
     "cell_type": "code",
     "collapsed": false,
     "input": [
      "chart=HorizontalLineChart()"
     ],
     "language": "python",
     "metadata": {},
     "outputs": [],
     "prompt_number": 25
    },
    {
     "cell_type": "code",
     "collapsed": false,
     "input": [
      "drawing.add(chart)"
     ],
     "language": "python",
     "metadata": {},
     "outputs": [],
     "prompt_number": 26
    },
    {
     "cell_type": "code",
     "collapsed": false,
     "input": [
      "drawing"
     ],
     "language": "python",
     "metadata": {},
     "outputs": [
      {
       "metadata": {},
       "output_type": "pyout",
       "png": "[encoded data removed]",
       "prompt_number": 27,
       "text": [
        "<reportlab.graphics.shapes.Drawing instance at 0x7f0cc7212878>"
       ]
      }
     ],
     "prompt_number": 27
    },
    {
     "cell_type": "code",
     "collapsed": false,
     "input": [],
     "language": "python",
     "metadata": {},
     "outputs": []
    }
   ],
   "metadata": {}
  }
 ]
}